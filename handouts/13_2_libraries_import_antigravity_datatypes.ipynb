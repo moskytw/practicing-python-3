{
 "cells": [
  {
   "cell_type": "markdown",
   "metadata": {},
   "source": [
    "## Human's Numbers – `decimal`"
   ]
  },
  {
   "cell_type": "code",
   "execution_count": 1,
   "metadata": {},
   "outputs": [
    {
     "name": "stdout",
     "output_type": "stream",
     "text": [
      "triple 1: True\n",
      "triple 0.1: False\n",
      "\n",
      "triple decimal 0.1: True\n"
     ]
    }
   ],
   "source": [
    "print('triple 1:', 1 + 1 + 1  == 3)\n",
    "print('triple 0.1:', 0.1 + 0.1 + 0.1 == 0.3)\n",
    "print()\n",
    "\n",
    "from decimal import Decimal as Dec\n",
    "print('triple decimal 0.1:', Dec('0.1') + Dec('0.1') + Dec('0.1') == Dec('0.3'))\n",
    "\n",
    "# see also:\n",
    "# IEEE floating point (IEEE 754)\n",
    "# https://en.wikipedia.org/wiki/IEEE_floating_point"
   ]
  },
  {
   "cell_type": "markdown",
   "metadata": {},
   "source": [
    "## Basic Date and Time Types – `datetime`"
   ]
  },
  {
   "cell_type": "code",
   "execution_count": 2,
   "metadata": {},
   "outputs": [
    {
     "name": "stdout",
     "output_type": "stream",
     "text": [
      "now 2017-11-26 22:43:48.868468\n",
      "1 hour ago: 2017-11-26 21:43:48.868512\n",
      "1/1 to now: 695 days, 22:43:48.868468\n",
      "\n"
     ]
    }
   ],
   "source": [
    "from datetime import datetime, timedelta\n",
    "\n",
    "now = datetime.now()\n",
    "one_hour_ago = datetime.now() - timedelta(hours=1)\n",
    "\n",
    "print('now', now)\n",
    "print('1 hour ago:', one_hour_ago)\n",
    "print('1/1 to now:', now-datetime(2016, 1, 1))\n",
    "print()\n",
    "\n",
    "# see also:\n",
    "# dateutil\n",
    "# https://dateutil.readthedocs.io/en/stable/"
   ]
  },
  {
   "cell_type": "markdown",
   "metadata": {},
   "source": [
    "## More Container Datatypes – `collections`"
   ]
  },
  {
   "cell_type": "code",
   "execution_count": 3,
   "metadata": {},
   "outputs": [],
   "source": [
    "from collections import deque, Counter, OrderedDict, defaultdict"
   ]
  },
  {
   "cell_type": "code",
   "execution_count": 4,
   "metadata": {},
   "outputs": [
    {
     "name": "stdout",
     "output_type": "stream",
     "text": [
      "435 µs ± 74.2 µs per loop (mean ± std. dev. of 7 runs, 1000 loops each)\n",
      "132 µs ± 9.98 µs per loop (mean ± std. dev. of 7 runs, 10000 loops each)\n"
     ]
    }
   ],
   "source": [
    "def use_list_as_queue():\n",
    "    que = list(range(1000))\n",
    "    while que:\n",
    "        que.pop(0)\n",
    "        \n",
    "        \n",
    "def use_deque_as_queue():\n",
    "    que = deque(range(1000))\n",
    "    while que:\n",
    "        que.popleft()\n",
    "\n",
    "# output:\n",
    "# 1000000 loops, best of 3: 4.37 µs per loop\n",
    "# 1000000 loops, best of 3: 2.01 µs per loop\n",
    "%timeit use_list_as_queue()\n",
    "%timeit use_deque_as_queue()\n",
    "\n",
    "# see also:\n",
    "# TimeComplexity\n",
    "# https://wiki.python.org/moin/TimeComplexity"
   ]
  },
  {
   "cell_type": "code",
   "execution_count": 5,
   "metadata": {
    "scrolled": true
   },
   "outputs": [
    {
     "name": "stdout",
     "output_type": "stream",
     "text": [
      "Counter({' ': 9, 's': 6, 'o': 4, 't': 4, 'a': 4, 'c': 4, 'u': 3, 'n': 3, 'e': 3, 'i': 3, 'b': 3, 'r': 2, 'l': 2, 'h': 2, 'A': 1, 'C': 1, 'd': 1, 'f': 1, 'g': 1, 'j': 1, '.': 1})\n",
      "[(' ', 9), ('s', 6), ('o', 4)]\n"
     ]
    }
   ],
   "source": [
    "c = Counter('A Counter is a dict subclass for counting hashable objects.')\n",
    "print(c)\n",
    "print(c.most_common(3))"
   ]
  },
  {
   "cell_type": "code",
   "execution_count": 6,
   "metadata": {},
   "outputs": [
    {
     "name": "stdout",
     "output_type": "stream",
     "text": [
      "['first', 'second', 'third']\n",
      "['first', 'second', 'third']\n"
     ]
    }
   ],
   "source": [
    "d = {}\n",
    "d['first'] = 1\n",
    "d['second'] = 2\n",
    "d['third'] = 3\n",
    "print([k for k in d])\n",
    "\n",
    "# in Python 3.6, the dict is always ordered\n",
    "od = OrderedDict()\n",
    "od['first'] = 1\n",
    "od['second'] = 2\n",
    "od['third'] = 3\n",
    "print([k for k in od])"
   ]
  },
  {
   "cell_type": "code",
   "execution_count": 7,
   "metadata": {},
   "outputs": [
    {
     "name": "stdout",
     "output_type": "stream",
     "text": [
      "defaultdict(<class 'list'>, {'R': ['Returns'], 'a': ['a', 'a'], 'n': ['new'], 'd': ['dictionary-like', 'defaultdict', 'dict'], 'o': ['object.', 'of'], 'i': ['is'], 's': ['subclass'], 't': ['the'], 'b': ['built-in'], 'c': ['class.']})\n"
     ]
    }
   ],
   "source": [
    "# fchar: first char\n",
    "fchar_word_map = defaultdict(list)\n",
    "sentence = 'Returns a new dictionary-like object. defaultdict is a subclass of the built-in dict class.'\n",
    "for word in sentence.split(' '):\n",
    "    fchar_word_map[word[0]].append(word)\n",
    "print(fchar_word_map)"
   ]
  }
 ],
 "metadata": {
  "kernelspec": {
   "display_name": "Python 3",
   "language": "python",
   "name": "python3"
  },
  "language_info": {
   "codemirror_mode": {
    "name": "ipython",
    "version": 3
   },
   "file_extension": ".py",
   "mimetype": "text/x-python",
   "name": "python",
   "nbconvert_exporter": "python",
   "pygments_lexer": "ipython3",
   "version": "3.7.4"
  },
  "toc": {
   "base_numbering": 1,
   "nav_menu": {},
   "number_sections": true,
   "sideBar": true,
   "skip_h1_title": true,
   "title_cell": "Table of Contents",
   "title_sidebar": "Contents",
   "toc_cell": false,
   "toc_position": {},
   "toc_section_display": "block",
   "toc_window_display": false
  }
 },
 "nbformat": 4,
 "nbformat_minor": 1
}
