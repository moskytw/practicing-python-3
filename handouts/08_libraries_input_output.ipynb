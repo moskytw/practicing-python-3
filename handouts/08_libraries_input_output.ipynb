{
 "cells": [
  {
   "cell_type": "markdown",
   "metadata": {},
   "source": [
    "# Libraries – Input & Output"
   ]
  },
  {
   "cell_type": "markdown",
   "metadata": {},
   "source": [
    "## Stdout, Stderr, and Stdin"
   ]
  },
  {
   "cell_type": "code",
   "execution_count": 1,
   "metadata": {},
   "outputs": [
    {
     "name": "stdout",
     "output_type": "stream",
     "text": [
      "The default print is just printing to stdout\n"
     ]
    }
   ],
   "source": [
    "print('The default print is just printing to stdout')"
   ]
  },
  {
   "cell_type": "code",
   "execution_count": 2,
   "metadata": {},
   "outputs": [
    {
     "name": "stderr",
     "output_type": "stream",
     "text": [
      "Error: height must > 0\n"
     ]
    }
   ],
   "source": [
    "import sys\n",
    "print('Error: height must > 0', file=sys.stderr)"
   ]
  },
  {
   "cell_type": "code",
   "execution_count": 3,
   "metadata": {},
   "outputs": [],
   "source": [
    "# int(input('Enter the height: '))  # from stdin"
   ]
  },
  {
   "cell_type": "markdown",
   "metadata": {},
   "source": [
    "## Files"
   ]
  },
  {
   "cell_type": "code",
   "execution_count": 4,
   "metadata": {},
   "outputs": [],
   "source": [
    "# variables in UPPERCASE are constants in convention\n",
    "# more conventions: https://www.python.org/dev/peps/pep-0008/\n",
    "#\n",
    "# about the dataset:\n",
    "#\n",
    "# - https://github.com/rmcelreath/rethinking/blob/master/data/Howell1.csv\n",
    "# - https://opendata.stackexchange.com/a/7798 \n",
    "#\n",
    "DATASET_FILENAME = 'dataset_howell1.csv'\n",
    "OUTPUT_FILENAME = '08_libraries_input_output.txt'"
   ]
  },
  {
   "cell_type": "markdown",
   "metadata": {},
   "source": [
    "### Open With the Naive Way"
   ]
  },
  {
   "cell_type": "code",
   "execution_count": 5,
   "metadata": {},
   "outputs": [],
   "source": [
    "f = open(DATASET_FILENAME)"
   ]
  },
  {
   "cell_type": "code",
   "execution_count": 6,
   "metadata": {},
   "outputs": [
    {
     "name": "stdout",
     "output_type": "stream",
     "text": [
      "\"height\";\"weight\";\"age\";\"male\"\n",
      "151.765;47.8256065;63;1\n"
     ]
    }
   ],
   "source": [
    "print(next(f), end='')\n",
    "print(next(f), end='')"
   ]
  },
  {
   "cell_type": "markdown",
   "metadata": {},
   "source": [
    "### Open Using Context Manager"
   ]
  },
  {
   "cell_type": "code",
   "execution_count": 7,
   "metadata": {},
   "outputs": [
    {
     "name": "stdout",
     "output_type": "stream",
     "text": [
      "\"height\";\"weight\";\"age\";\"male\"\n",
      "151.765;47.8256065;63;1\n"
     ]
    }
   ],
   "source": [
    "with open(DATASET_FILENAME) as f:\n",
    "    print(next(f), end='')\n",
    "    print(next(f), end='')"
   ]
  },
  {
   "cell_type": "markdown",
   "metadata": {},
   "source": [
    "When leave the `with` suite, the `f` will be closed automatically."
   ]
  },
  {
   "cell_type": "markdown",
   "metadata": {},
   "source": [
    "### Write and Read"
   ]
  },
  {
   "cell_type": "code",
   "execution_count": 8,
   "metadata": {},
   "outputs": [],
   "source": [
    "# use Cmd-/ to uncomment\n",
    "\n",
    "# with open(OUTPUT_FILENAME, 'w') as f:\n",
    "\n",
    "#     while True:\n",
    "\n",
    "#         line = input('')\n",
    "#         if line == '':\n",
    "#             break\n",
    "\n",
    "#         f.write(line)\n",
    "#         f.write('\\n')\n",
    "\n",
    "# with open(OUTPUT_FILENAME) as f:\n",
    "    \n",
    "#     for line in f:\n",
    "#         print(line, end='')"
   ]
  },
  {
   "cell_type": "markdown",
   "metadata": {},
   "source": [
    "### Load CSV"
   ]
  },
  {
   "cell_type": "code",
   "execution_count": 9,
   "metadata": {},
   "outputs": [
    {
     "name": "stdout",
     "output_type": "stream",
     "text": [
      "skip ['height', 'weight', 'age', 'male']\n",
      "['151.765', '47.8256065', '63', '1']\n",
      "['139.7', '36.4858065', '63', '0']\n",
      "['136.525', '31.864838', '65', '0']\n"
     ]
    }
   ],
   "source": [
    "import csv\n",
    "\n",
    "with open(DATASET_FILENAME) as f:\n",
    "    \n",
    "    csvr = csv.reader(f, delimiter=';')\n",
    "    for line_no, row in enumerate(csvr, start=1):\n",
    "        \n",
    "        if line_no == 1:\n",
    "            print('skip', row)\n",
    "            continue\n",
    "        \n",
    "        if line_no >= 5:\n",
    "            break\n",
    "            \n",
    "        print(row)"
   ]
  },
  {
   "cell_type": "markdown",
   "metadata": {},
   "source": [
    "## Dig More\n",
    "\n",
    "- https://docs.python.org/3/library/functions.html#open\n",
    "- https://docs.python.org/3/reference/compound_stmts.html#the-with-statement\n",
    "- https://docs.python.org/3/library/io.html\n",
    "- https://docs.python.org/3/library/csv.html"
   ]
  }
 ],
 "metadata": {
  "kernelspec": {
   "display_name": "Python 3 (practicing-python-3)",
   "language": "python",
   "name": "python3-practicing-python-3"
  },
  "language_info": {
   "codemirror_mode": {
    "name": "ipython",
    "version": 3
   },
   "file_extension": ".py",
   "mimetype": "text/x-python",
   "name": "python",
   "nbconvert_exporter": "python",
   "pygments_lexer": "ipython3",
   "version": "3.7.3"
  },
  "toc": {
   "base_numbering": 1,
   "nav_menu": {},
   "number_sections": true,
   "sideBar": true,
   "skip_h1_title": true,
   "title_cell": "Table of Contents",
   "title_sidebar": "Contents",
   "toc_cell": false,
   "toc_position": {},
   "toc_section_display": "block",
   "toc_window_display": false
  }
 },
 "nbformat": 4,
 "nbformat_minor": 2
}
