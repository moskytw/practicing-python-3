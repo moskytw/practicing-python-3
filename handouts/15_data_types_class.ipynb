{
 "cells": [
  {
   "cell_type": "markdown",
   "metadata": {},
   "source": [
    "# Data Types – Class\n",
    "\n",
    "## Methods and Instance Variables"
   ]
  },
  {
   "cell_type": "code",
   "execution_count": 1,
   "metadata": {},
   "outputs": [],
   "source": [
    "class Google:\n",
    "\n",
    "    def __init__(self):\n",
    "        print('Init...')\n",
    "        self.username = ''\n",
    "        self.password = ''\n",
    "\n",
    "    def set_user_info(self, username, password):\n",
    "        print('Set user info...')\n",
    "        self.username = username\n",
    "        self.password = password\n",
    "        \n",
    "    def log_in(self):\n",
    "        print('Logging in Google as', self.username, '...')\n",
    "\n",
    "    def query_mail(self):\n",
    "        print('Query Gmail...')\n",
    "\n",
    "    def query_calendar(self):\n",
    "        print('Query Google Calendar...')"
   ]
  },
  {
   "cell_type": "code",
   "execution_count": 2,
   "metadata": {},
   "outputs": [
    {
     "name": "stdout",
     "output_type": "stream",
     "text": [
      "Init...\n",
      "Set user info...\n",
      "Logging in Google as mosky ...\n",
      "Query Gmail...\n",
      "\n",
      "Init...\n",
      "Set user info...\n",
      "Logging in Google as andy ...\n",
      "Query Gmail...\n",
      "\n",
      "mosky\n",
      "andy\n"
     ]
    }
   ],
   "source": [
    "mosky_g = Google()\n",
    "mosky_g.set_user_info('mosky', 'mypassword')\n",
    "mosky_g.log_in()\n",
    "mosky_g.query_mail()\n",
    "# === Google.query_mail(mosky_g)\n",
    "print()\n",
    "\n",
    "andy_g = Google()\n",
    "andy_g.set_user_info('andy', 'andypassword')\n",
    "andy_g.log_in()\n",
    "andy_g.query_mail()\n",
    "print()\n",
    "\n",
    "print(mosky_g.username)\n",
    "print(andy_g.username)"
   ]
  },
  {
   "cell_type": "markdown",
   "metadata": {},
   "source": [
    "## Class Method and Class Variables"
   ]
  },
  {
   "cell_type": "code",
   "execution_count": 3,
   "metadata": {},
   "outputs": [],
   "source": [
    "class Google:\n",
    "\n",
    "    mail_url = 'http://mail.google.com'\n",
    "    calendar_url = 'http://calendar.google.com'\n",
    "    \n",
    "    @classmethod\n",
    "    def get_config_dict(cls):\n",
    "        return {\n",
    "            'mail_url': cls.mail_url,\n",
    "            'calendar_url': cls.calendar_url,\n",
    "        }\n",
    "        \n",
    "    def __init__(self):\n",
    "        print('Init...')\n",
    "        self.username = ''\n",
    "        self.password = ''\n",
    "\n",
    "    def set_user_info(self, username, password):\n",
    "        print('Set user info...')\n",
    "        self.username = username\n",
    "        self.password = password\n",
    "        \n",
    "    def log_in(self):\n",
    "        print('Logging in Google as', self.username, '...')\n",
    "\n",
    "    def query_mail(self):\n",
    "        print('Query Gmail from', self.mail_url, '...')\n",
    "\n",
    "    def query_calendar(self):\n",
    "        print('Query Google Calendar from,', self.calendar_url, '...')"
   ]
  },
  {
   "cell_type": "code",
   "execution_count": 4,
   "metadata": {},
   "outputs": [
    {
     "name": "stdout",
     "output_type": "stream",
     "text": [
      "http://mail.google.com\n",
      "http://calendar.google.com\n",
      "\n",
      "{'mail_url': 'http://mail.google.com', 'calendar_url': 'http://calendar.google.com'}\n",
      "\n",
      "Init...\n",
      "Set user info...\n",
      "Logging in Google as mosky ...\n",
      "Query Gmail from http://mail.google.com ...\n",
      "\n",
      "Init...\n",
      "Set user info...\n",
      "Logging in Google as andy ...\n",
      "Query Gmail from http://mail.google.com ...\n",
      "\n",
      "mosky\n",
      "andy\n",
      "http://mail.google.com\n",
      "http://calendar.google.com\n"
     ]
    }
   ],
   "source": [
    "print(Google.mail_url)\n",
    "print(Google.calendar_url)\n",
    "print()\n",
    "\n",
    "print(Google.get_config_dict())\n",
    "print()\n",
    "\n",
    "mosky_g = Google()\n",
    "mosky_g.set_user_info('mosky', 'mypassword')\n",
    "mosky_g.log_in()\n",
    "mosky_g.query_mail()\n",
    "# === Google.query_mail(mosky_g)\n",
    "print()\n",
    "\n",
    "andy_g = Google()\n",
    "andy_g.set_user_info('andy', 'andypassword')\n",
    "andy_g.log_in()\n",
    "andy_g.query_mail()\n",
    "print()\n",
    "\n",
    "print(mosky_g.username)\n",
    "print(andy_g.username)\n",
    "print(mosky_g.mail_url)\n",
    "print(andy_g.calendar_url)"
   ]
  },
  {
   "cell_type": "code",
   "execution_count": 5,
   "metadata": {},
   "outputs": [],
   "source": [
    "class Site:\n",
    "\n",
    "    def __init__(self):\n",
    "        print('Init...')\n",
    "        self.username = ''\n",
    "        self.password = ''\n",
    "\n",
    "    def set_user_info(self, username, password):\n",
    "        print('Set user info...')\n",
    "        self.username = username\n",
    "        self.password = password\n",
    "        \n",
    "    def log_in(self):\n",
    "        raise NotImplementedError\n",
    "        \n",
    "    def query_mail(self):\n",
    "        raise NotImplementedError\n",
    "        \n",
    "    def query_calendar(self):\n",
    "        raise NotImplementedError\n",
    "\n",
    "\n",
    "class Google(Site):\n",
    "\n",
    "    def log_in(self):\n",
    "        print('Logging in Google as', self.username, '...')\n",
    "\n",
    "    def query_mail(self):\n",
    "        print('Query Gmail...')\n",
    "\n",
    "    def query_calendar(self):\n",
    "        print('Query Google Calendar...')\n",
    "\n",
    "\n",
    "class Yahoo(Site):\n",
    "\n",
    "    yahoo_mail_url = 'http://mail.yahoo.com'\n",
    "\n",
    "    def log_in(self):\n",
    "        print('Logging in Yahoo! as', self.username, '...')\n",
    "    \n",
    "    def query_mail(self):\n",
    "        print('Query Yahoo! Mail...')"
   ]
  },
  {
   "cell_type": "code",
   "execution_count": 6,
   "metadata": {
    "scrolled": true
   },
   "outputs": [
    {
     "name": "stdout",
     "output_type": "stream",
     "text": [
      "Init...\n",
      "Set user info...\n",
      "Logging in Google as mosky ...\n",
      "Query Gmail...\n",
      "\n",
      "Init...\n",
      "Set user info...\n",
      "Logging in Yahoo! as mosky@yahoo ...\n",
      "Query Yahoo! Mail...\n"
     ]
    }
   ],
   "source": [
    "mosky_g = Google()\n",
    "mosky_g.set_user_info('mosky', 'mypassword')\n",
    "mosky_g.log_in()\n",
    "mosky_g.query_mail()\n",
    "print()\n",
    "\n",
    "mosky_y = Yahoo()\n",
    "mosky_y.set_user_info('mosky@yahoo', 'mypassword@yahoo')\n",
    "mosky_y.log_in()\n",
    "mosky_y.query_mail()\n",
    "\n",
    "# mosky_y.query_calendar()"
   ]
  }
 ],
 "metadata": {
  "kernelspec": {
   "display_name": "Python 3 (practicing-python-3)",
   "language": "python",
   "name": "python3-practicing-python-3"
  },
  "language_info": {
   "codemirror_mode": {
    "name": "ipython",
    "version": 3
   },
   "file_extension": ".py",
   "mimetype": "text/x-python",
   "name": "python",
   "nbconvert_exporter": "python",
   "pygments_lexer": "ipython3",
   "version": "3.7.3"
  },
  "toc": {
   "base_numbering": 1,
   "nav_menu": {},
   "number_sections": true,
   "sideBar": true,
   "skip_h1_title": true,
   "title_cell": "Table of Contents",
   "title_sidebar": "Contents",
   "toc_cell": false,
   "toc_position": {},
   "toc_section_display": "block",
   "toc_window_display": false
  }
 },
 "nbformat": 4,
 "nbformat_minor": 2
}
