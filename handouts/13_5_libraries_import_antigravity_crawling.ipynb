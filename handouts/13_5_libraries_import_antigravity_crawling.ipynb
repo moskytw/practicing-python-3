{
 "cells": [
  {
   "cell_type": "markdown",
   "metadata": {},
   "source": [
    "## Crawling News Titles"
   ]
  },
  {
   "cell_type": "code",
   "execution_count": 1,
   "metadata": {},
   "outputs": [],
   "source": [
    "import requests\n",
    "from bs4 import BeautifulSoup"
   ]
  },
  {
   "cell_type": "code",
   "execution_count": 2,
   "metadata": {},
   "outputs": [
    {
     "data": {
      "text/plain": [
       "<Response [200]>"
      ]
     },
     "execution_count": 2,
     "metadata": {},
     "output_type": "execute_result"
    }
   ],
   "source": [
    "resp = requests.get(\n",
    "    'https://tw.news.yahoo.com/world',\n",
    "    headers={'user-agent': 'Mozilla/5.0 (Macintosh; Intel Mac OS X 10_14_6) AppleWebKit/537.36 (KHTML, like Gecko) Chrome/78.0.3904.87 Safari/537.36'}\n",
    ")\n",
    "resp"
   ]
  },
  {
   "cell_type": "code",
   "execution_count": 3,
   "metadata": {},
   "outputs": [],
   "source": [
    "assert '最新國際新聞' in resp.text"
   ]
  },
  {
   "cell_type": "code",
   "execution_count": 4,
   "metadata": {},
   "outputs": [],
   "source": [
    "bsoup = BeautifulSoup(resp.text, 'html.parser')"
   ]
  },
  {
   "cell_type": "code",
   "execution_count": 5,
   "metadata": {},
   "outputs": [
    {
     "data": {
      "text/plain": [
       "<a class=\"C($c-fuji-grey-l) Fw(b) Fz(20px) Lh(23px) LineClamp(2,46px) Fz(17px)--sm1024 Lh(19px)--sm1024 LineClamp(2,38px)--sm1024 Td(n) C(#0078ff):h C(#000) LineClamp(2,46px) LineClamp(2,38px)--sm1024\" data-reactid=\"13\" href=\"/%E9%99%B8%E8%B1%AC%E5%95%86%E7%82%BA%E6%B1%82%E5%A5%BD%E5%83%B9%E6%A0%BC-%E7%AB%9F%E5%B0%8D%E6%B4%BB%E8%B1%AC%E7%8B%82%E7%81%8C%E6%B0%B4-131534196.html\"><u class=\"StretchedBox\" data-reactid=\"14\"></u><!-- react-text: 15 -->陸豬商為求好價格　竟對活豬狂灌水<!-- /react-text --></a>"
      ]
     },
     "execution_count": 5,
     "metadata": {},
     "output_type": "execute_result"
    }
   ],
   "source": [
    "a_tags = bsoup.select('h3 a')\n",
    "a_tags[0]"
   ]
  },
  {
   "cell_type": "code",
   "execution_count": 6,
   "metadata": {},
   "outputs": [
    {
     "name": "stdout",
     "output_type": "stream",
     "text": [
      "陸豬商為求好價格　竟對活豬狂灌水\n"
     ]
    }
   ],
   "source": [
    "print(a_tags[0].text)"
   ]
  },
  {
   "cell_type": "code",
   "execution_count": 7,
   "metadata": {},
   "outputs": [
    {
     "name": "stdout",
     "output_type": "stream",
     "text": [
      "陸豬商為求好價格　竟對活豬狂灌水\n",
      "網友大推「YP燈飾」全台最大5萬款燈飾▶線上選 門市看 有保固\n",
      "6隻毛孩遭射殺爆頭！惡男：為了小孩\n",
      "消防員吃飯不拿筷？原因超辛酸逼哭網\n",
      "郊區驚見荒廢屋！20年後爽賺3千萬\n",
      "『蜂王乳+  芝麻明E 』兩大成分助你睡好氣色紅潤\n",
      "想擁美尻！女注填充物險死…臀肉腐爛留疤\n",
      "女同居失戀男砸4萬！竟見他復合前任\n",
      "上學途中遇地雷爆炸 9名阿富汗兒童喪生\n",
      "月繳2萬元+彈性繳【第一桶金 從投開始】\n",
      "上學途中遇地雷爆炸 9名阿富汗兒童喪生\n",
      "網路價格透明、薄利時代來臨　雙11生意難做\n",
      "香港中環兩集會被迫腰斬 只能舉行半小時\n",
      "威尼斯面具嘉年華ಇ 2020浪漫啟程！獨家入住《色遇》酒店\n",
      "登新聞周刊封面　楊安澤大談未來世代危機\n",
      "三房改五房出租超吵　遭舉報下場悽慘\n",
      "7年愛犬被婆婆偷丟！孕媳怒墮胎離婚\n",
      "中華電信【瘋搶雙11購物節】來啦，全業務享優惠，申請再抽Hami Point 11,111點!\n",
      "快訊／世界盃橄欖球　南非32：12擊敗英格蘭奪冠\n",
      "港周末示威　新華社遭縱火　大門玻璃碎裂\n",
      "執行「藍鯨」最後任務！少女遭輾成肉醬 家屬崩潰\n",
      "開車遇拋錨 速看解套方案▶抽東京機票補助金\n",
      "太空人丟冠軍家具行賠慘了　3.6億投注金變空氣\n",
      "空氣品質不斷惡化　德里成大型毒氣室\n",
      "澀谷新地標開幕了　吃得到台灣貓熊芝麻包\n",
      "１１１１狂歡慶！全館８８折再送下單滿額禮！\n",
      "愛喝酒！男子腹部爆痛休克 醫抽血…竟是牛奶色\n"
     ]
    }
   ],
   "source": [
    "for t in a_tags:\n",
    "    print(t.text)"
   ]
  },
  {
   "cell_type": "markdown",
   "metadata": {},
   "source": [
    "## Dig More\n",
    "\n",
    "* http://docs.python-requests.org/en/master/\n",
    "* https://www.crummy.com/software/BeautifulSoup/bs4/doc/"
   ]
  }
 ],
 "metadata": {
  "kernelspec": {
   "display_name": "Python 3 (practicing-python-3)",
   "language": "python",
   "name": "python3-practicing-python-3"
  },
  "language_info": {
   "codemirror_mode": {
    "name": "ipython",
    "version": 3
   },
   "file_extension": ".py",
   "mimetype": "text/x-python",
   "name": "python",
   "nbconvert_exporter": "python",
   "pygments_lexer": "ipython3",
   "version": "3.7.3"
  },
  "toc": {
   "base_numbering": 1,
   "nav_menu": {},
   "number_sections": true,
   "sideBar": true,
   "skip_h1_title": true,
   "title_cell": "Table of Contents",
   "title_sidebar": "Contents",
   "toc_cell": false,
   "toc_position": {},
   "toc_section_display": "block",
   "toc_window_display": false
  }
 },
 "nbformat": 4,
 "nbformat_minor": 1
}
