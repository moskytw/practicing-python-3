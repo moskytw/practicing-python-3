{
 "cells": [
  {
   "cell_type": "markdown",
   "metadata": {},
   "source": [
    "# Libraries – Common Functions"
   ]
  },
  {
   "cell_type": "markdown",
   "metadata": {},
   "source": [
    "## Common Functions"
   ]
  },
  {
   "cell_type": "code",
   "execution_count": 1,
   "metadata": {},
   "outputs": [
    {
     "name": "stdout",
     "output_type": "stream",
     "text": [
      "abs(-3.14)     -> 3.14\n",
      "round(3.14, 1) -> 3.1\n"
     ]
    }
   ],
   "source": [
    "print(f'abs(-3.14)     -> {abs(-3.14)!r}')\n",
    "print(f'round(3.14, 1) -> {round(3.14, 1)!r}')"
   ]
  },
  {
   "cell_type": "code",
   "execution_count": 2,
   "metadata": {},
   "outputs": [
    {
     "name": "stdout",
     "output_type": "stream",
     "text": [
      "sum([3, 1, 4]) -> 8\n"
     ]
    }
   ],
   "source": [
    "print(f'sum([3, 1, 4]) -> {sum([3, 1 ,4])!r}')"
   ]
  },
  {
   "cell_type": "code",
   "execution_count": 3,
   "metadata": {},
   "outputs": [
    {
     "name": "stdout",
     "output_type": "stream",
     "text": [
      "math.floor(3.14)  -> 3\n",
      "math.floor(-3.14) -> -4\n",
      "math.ceil(3.14)   -> 4\n",
      "math.ceil(-3.14)  -> -3\n"
     ]
    }
   ],
   "source": [
    "import math\n",
    "print(f'math.floor(3.14)  -> {math.floor(3.14)!r}')\n",
    "print(f'math.floor(-3.14) -> {math.floor(-3.14)!r}')\n",
    "print(f'math.ceil(3.14)   -> {math.ceil(3.14)!r}')\n",
    "print(f'math.ceil(-3.14)  -> {math.ceil(-3.14)!r}')"
   ]
  },
  {
   "cell_type": "code",
   "execution_count": 4,
   "metadata": {},
   "outputs": [
    {
     "name": "stdout",
     "output_type": "stream",
     "text": [
      "statistics.mean([6, 8, 10]) -> 8\n"
     ]
    }
   ],
   "source": [
    "import statistics\n",
    "print(f'statistics.mean([6, 8, 10]) -> {statistics.mean([6, 8, 10])!r}')"
   ]
  },
  {
   "cell_type": "code",
   "execution_count": 5,
   "metadata": {},
   "outputs": [
    {
     "name": "stdout",
     "output_type": "stream",
     "text": [
      "chars.sort()           -> None\n",
      "sorted(chars)          -> ['a', 'e', 'l', 'p', 'p']\n",
      "chars is sorted(chars) -> False\n"
     ]
    }
   ],
   "source": [
    "chars = list('apple')\n",
    "print(f'chars.sort()           -> {chars.sort()!r}')\n",
    "print(f'sorted(chars)          -> {sorted(chars)!r}')\n",
    "print(f'chars is sorted(chars) -> {chars is sorted(chars)!r}')"
   ]
  },
  {
   "cell_type": "markdown",
   "metadata": {},
   "source": [
    "## String Methods"
   ]
  },
  {
   "cell_type": "code",
   "execution_count": 6,
   "metadata": {},
   "outputs": [
    {
     "name": "stdout",
     "output_type": "stream",
     "text": [
      "Python is a cool programming language.\n",
      "['Python', 'is', 'a', 'cool', 'programming', 'language.']\n"
     ]
    }
   ],
   "source": [
    "sentence = 'Python is a cool programming language.'\n",
    "words = sentence.split(' ')\n",
    "print(sentence)\n",
    "print(words)"
   ]
  },
  {
   "cell_type": "code",
   "execution_count": 7,
   "metadata": {},
   "outputs": [
    {
     "data": {
      "text/plain": [
       "'Python is a cool programming language.'"
      ]
     },
     "execution_count": 7,
     "metadata": {},
     "output_type": "execute_result"
    }
   ],
   "source": [
    "' '.join(words)"
   ]
  },
  {
   "cell_type": "code",
   "execution_count": 8,
   "metadata": {},
   "outputs": [
    {
     "data": {
      "text/plain": [
       "('zh', '_', 'TW')"
      ]
     },
     "execution_count": 8,
     "metadata": {},
     "output_type": "execute_result"
    }
   ],
   "source": [
    "'zh_TW'.partition('_')"
   ]
  },
  {
   "cell_type": "code",
   "execution_count": 9,
   "metadata": {},
   "outputs": [
    {
     "data": {
      "text/plain": [
       "('Python is a cool programming language.', '', '')"
      ]
     },
     "execution_count": 9,
     "metadata": {},
     "output_type": "execute_result"
    }
   ],
   "source": [
    "'Python is a cool programming language.'.partition('_')"
   ]
  },
  {
   "cell_type": "code",
   "execution_count": 10,
   "metadata": {},
   "outputs": [
    {
     "data": {
      "text/plain": [
       "('', '', 'Python is a cool programming language.')"
      ]
     },
     "execution_count": 10,
     "metadata": {},
     "output_type": "execute_result"
    }
   ],
   "source": [
    "'Python is a cool programming language.'.rpartition('_')"
   ]
  },
  {
   "cell_type": "code",
   "execution_count": 11,
   "metadata": {},
   "outputs": [
    {
     "data": {
      "text/plain": [
       "'07_libraries_common_functions'"
      ]
     },
     "execution_count": 11,
     "metadata": {},
     "output_type": "execute_result"
    }
   ],
   "source": [
    "# _: for the values we don't need in convention\n",
    "stem, _, _ = '07_libraries_common_functions.ipynb'.partition('.')\n",
    "stem"
   ]
  },
  {
   "cell_type": "code",
   "execution_count": 12,
   "metadata": {},
   "outputs": [
    {
     "data": {
      "text/plain": [
       "'mosky.liu@gmail.com'"
      ]
     },
     "execution_count": 12,
     "metadata": {},
     "output_type": "execute_result"
    }
   ],
   "source": [
    "'Mosky.Liu@gmail.com'.lower()"
   ]
  },
  {
   "cell_type": "code",
   "execution_count": 13,
   "metadata": {},
   "outputs": [
    {
     "data": {
      "text/plain": [
       "'Title'"
      ]
     },
     "execution_count": 13,
     "metadata": {},
     "output_type": "execute_result"
    }
   ],
   "source": [
    "'title'.capitalize()"
   ]
  },
  {
   "cell_type": "code",
   "execution_count": 14,
   "metadata": {},
   "outputs": [
    {
     "data": {
      "text/plain": [
       "True"
      ]
     },
     "execution_count": 14,
     "metadata": {},
     "output_type": "execute_result"
    }
   ],
   "source": [
    "'2017-09-17'.startswith('2017-09')"
   ]
  },
  {
   "cell_type": "code",
   "execution_count": 15,
   "metadata": {},
   "outputs": [
    {
     "data": {
      "text/plain": [
       "True"
      ]
     },
     "execution_count": 15,
     "metadata": {},
     "output_type": "execute_result"
    }
   ],
   "source": [
    "# must also check the content\n",
    "# consider user uploads a malware whose name is “profile.png” \n",
    "'profile.png'.endswith('.png')"
   ]
  },
  {
   "cell_type": "markdown",
   "metadata": {},
   "source": [
    "## Common Types\n",
    "\n",
    "Like functions."
   ]
  },
  {
   "cell_type": "code",
   "execution_count": 16,
   "metadata": {},
   "outputs": [
    {
     "name": "stdout",
     "output_type": "stream",
     "text": [
      "Actually int is <class 'type'> rather than <class 'builtin_function_or_method'>.\n",
      "\n",
      "But it's okay, in Python, the syntaxes of them are same.\n"
     ]
    }
   ],
   "source": [
    "print(f'''\\\n",
    "Actually int is {type(int)!r} rather than {type(abs)!r}.\n",
    "\n",
    "But it's okay, in Python, the syntaxes of them are same.''')"
   ]
  },
  {
   "cell_type": "code",
   "execution_count": 17,
   "metadata": {},
   "outputs": [
    {
     "name": "stdout",
     "output_type": "stream",
     "text": [
      "int()       -> 0\n",
      "int(3)      -> 3\n",
      "int(3.14)   -> 3\n",
      "int(-3.14)  -> -3\n",
      "int('3')    -> 3\n",
      "int('3.14') -> ValueError\n",
      "int('x')    -> ValueError\n",
      "int(None)   -> TypeError\n",
      "int([3.14]) -> TypeError\n"
     ]
    }
   ],
   "source": [
    "print(f'int()       -> {int()!r}')\n",
    "print(f'int(3)      -> {int(3)!r}')\n",
    "print(f'int(3.14)   -> {int(3.14)!r}')  # truncates towards zero\n",
    "print(f'int(-3.14)  -> {int(-3.14)!r}')\n",
    "print(f\"int('3')    -> {int(3)!r}\")\n",
    "print(f\"int('3.14') -> ValueError\")\n",
    "print(f\"int('x')    -> ValueError\")\n",
    "print(f'int(None)   -> TypeError')\n",
    "print(f'int([3.14]) -> TypeError')"
   ]
  },
  {
   "cell_type": "code",
   "execution_count": 18,
   "metadata": {},
   "outputs": [
    {
     "name": "stdout",
     "output_type": "stream",
     "text": [
      "float()       -> 0.0\n",
      "float(3)      -> 3.0\n",
      "float(3.14)   -> 3.14\n",
      "float('3')    -> 3.0\n",
      "float('3.14') -> 3.14\n",
      "float('x')    -> ValueError\n",
      "float(None)   -> TypeError\n",
      "float([3.14]) -> TypeError\n"
     ]
    }
   ],
   "source": [
    "print(f'float()       -> {float()!r}')\n",
    "print(f'float(3)      -> {float(3)!r}')\n",
    "print(f'float(3.14)   -> {float(3.14)!r}')\n",
    "print(f\"float('3')    -> {float('3')!r}\")\n",
    "print(f\"float('3.14') -> {float('3.14')!r}\")\n",
    "print(f\"float('x')    -> ValueError\")\n",
    "print(f'float(None)   -> TypeError')\n",
    "print(f'float([3.14]) -> TypeError')"
   ]
  },
  {
   "cell_type": "code",
   "execution_count": 19,
   "metadata": {},
   "outputs": [
    {
     "name": "stdout",
     "output_type": "stream",
     "text": [
      "str()       -> ''\n",
      "str(3)      -> '3'\n",
      "str(3.14)   -> '3.14'\n",
      "str('3')    -> '3'\n",
      "str('3.14') -> '3.14'\n",
      "str('x')    -> 'x'\n",
      "str(None)   -> 'None'\n",
      "str([3.14]) -> '[3.14]'\n"
     ]
    }
   ],
   "source": [
    "print(f'str()       -> {str()!r}')\n",
    "print(f'str(3)      -> {str(3)!r}')\n",
    "print(f'str(3.14)   -> {str(3.14)!r}')\n",
    "print(f\"str('3')    -> {str('3')!r}\")\n",
    "print(f\"str('3.14') -> {str('3.14')!r}\")\n",
    "print(f\"str('x')    -> {str('x')!r}\")\n",
    "print(f\"str(None)   -> {str(None)!r}\")\n",
    "print(f\"str([3.14]) -> {str([3.14])!r}\")"
   ]
  },
  {
   "cell_type": "code",
   "execution_count": 20,
   "metadata": {},
   "outputs": [
    {
     "data": {
      "text/plain": [
       "'是駭客！'"
      ]
     },
     "execution_count": 20,
     "metadata": {},
     "output_type": "execute_result"
    }
   ],
   "source": [
    "str(b'\\xe6\\x98\\xaf\\xe9\\xa7\\xad\\xe5\\xae\\xa2\\xef\\xbc\\x81', 'utf-8')"
   ]
  },
  {
   "cell_type": "code",
   "execution_count": 21,
   "metadata": {},
   "outputs": [
    {
     "name": "stdout",
     "output_type": "stream",
     "text": [
      "[] <class 'list'>\n",
      "() <class 'tuple'>\n",
      "{} <class 'dict'>\n",
      "\n",
      "list()  -> []\n",
      "tuple() -> ()\n",
      "set()   -> set()\n"
     ]
    }
   ],
   "source": [
    "print([], type([]))\n",
    "print((), type(()))\n",
    "print({}, type({}))\n",
    "print()\n",
    "\n",
    "print(f\"list()  -> {list()!r}\")\n",
    "print(f\"tuple() -> {tuple()!r}\")\n",
    "print(f\"set()   -> {set()!r}\")"
   ]
  },
  {
   "cell_type": "code",
   "execution_count": 22,
   "metadata": {},
   "outputs": [
    {
     "name": "stdout",
     "output_type": "stream",
     "text": [
      "list('apple')  -> ['a', 'p', 'p', 'l', 'e']\n",
      "tuple('apple') -> ('a', 'p', 'p', 'l', 'e')\n",
      "set('apple')   -> {'e', 'l', 'a', 'p'}\n"
     ]
    }
   ],
   "source": [
    "print(f\"list('apple')  -> {list('apple')!r}\")\n",
    "print(f\"tuple('apple') -> {tuple('apple')!r}\")\n",
    "print(f\"set('apple')   -> {set('apple')!r}\")"
   ]
  },
  {
   "cell_type": "code",
   "execution_count": 23,
   "metadata": {},
   "outputs": [
    {
     "name": "stdout",
     "output_type": "stream",
     "text": [
      "{'a': 1, 'b': 2}           -> {'a': 1, 'b': 2}\n",
      "dict(a=1, b=2)             -> {'a': 1, 'b': 2}\n",
      "dict([('a', 1), ('b', 2)]) -> {'a': 1, 'b': 2}\n"
     ]
    }
   ],
   "source": [
    "print(\"{{'a': 1, 'b': 2}}           -> {!r}\".format(\n",
    "    {'a': 1, 'b': 2}\n",
    "))\n",
    "print(\"dict(a=1, b=2)             -> {!r}\".format(\n",
    "    dict(a=1, b=2)\n",
    "))\n",
    "print(\"dict([('a', 1), ('b', 2)]) -> {!r}\".format(\n",
    "    dict([\n",
    "        ('a', 1),\n",
    "        ('b', 2)\n",
    "    ])\n",
    "))"
   ]
  },
  {
   "cell_type": "markdown",
   "metadata": {},
   "source": [
    "## Dig More\n",
    "\n",
    "* All built-in functions: https://docs.python.org/3/library/functions.html\n",
    "* The math module: https://docs.python.org/3/library/math.html\n",
    "* All string methods: https://docs.python.org/3/library/stdtypes.html#string-methods"
   ]
  }
 ],
 "metadata": {
  "kernelspec": {
   "display_name": "Python 3 (practicing-python-3)",
   "language": "python",
   "name": "python3-practicing-python-3"
  },
  "language_info": {
   "codemirror_mode": {
    "name": "ipython",
    "version": 3
   },
   "file_extension": ".py",
   "mimetype": "text/x-python",
   "name": "python",
   "nbconvert_exporter": "python",
   "pygments_lexer": "ipython3",
   "version": "3.6.3"
  },
  "toc": {
   "nav_menu": {},
   "number_sections": true,
   "sideBar": true,
   "skip_h1_title": true,
   "toc_cell": false,
   "toc_position": {},
   "toc_section_display": "block",
   "toc_window_display": false
  }
 },
 "nbformat": 4,
 "nbformat_minor": 2
}
